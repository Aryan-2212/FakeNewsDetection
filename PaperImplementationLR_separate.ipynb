{
 "cells": [
  {
   "cell_type": "code",
   "execution_count": 1,
   "id": "535a7ca5",
   "metadata": {},
   "outputs": [],
   "source": [
    "import pandas as pd\n",
    "import numpy as np\n",
    "from sklearn.model_selection import train_test_split\n",
    "from sklearn.feature_extraction.text import TfidfVectorizer\n",
    "from sklearn.linear_model import LogisticRegression\n",
    "from sklearn.metrics import accuracy_score, precision_score, recall_score, f1_score\n"
   ]
  },
  {
   "cell_type": "code",
   "execution_count": 2,
   "id": "3d970b7e",
   "metadata": {},
   "outputs": [],
   "source": [
    "# Load the balanced datasets\n",
    "df_politifact_real = pd.read_csv(\"politifact_real.csv\")\n",
    "df_politifact_fake = pd.read_csv(\"politifact_fake.csv\")\n",
    "df_gossipcop_real = pd.read_csv(\"gossipcop_real_reduced.csv\")\n",
    "df_gossipcop_fake = pd.read_csv(\"gossipcop_fake_reduced.csv\")\n",
    "\n",
    "# Drop missing values just to be safe\n",
    "df_politifact_real.dropna(inplace=True)\n",
    "df_politifact_fake.dropna(inplace=True)\n",
    "df_gossipcop_real.dropna(inplace=True)\n",
    "df_gossipcop_fake.dropna(inplace=True)\n",
    "\n",
    "# Assign labels\n",
    "df_politifact_real[\"label\"] = 1\n",
    "df_politifact_fake[\"label\"] = 0\n",
    "df_gossipcop_real[\"label\"] = 1\n",
    "df_gossipcop_fake[\"label\"] = 0\n",
    "\n",
    "# Merge real and fake for each dataset\n",
    "df_politifact = pd.concat([df_politifact_real, df_politifact_fake], ignore_index=True)\n",
    "df_gossipcop = pd.concat([df_gossipcop_real, df_gossipcop_fake], ignore_index=True)\n",
    "\n"
   ]
  },
  {
   "cell_type": "code",
   "execution_count": 3,
   "id": "5934d807",
   "metadata": {},
   "outputs": [],
   "source": [
    "# Initialize vectorizer\n",
    "vectorizer = TfidfVectorizer(max_features=5000)\n",
    "\n",
    "def preprocess_text(df):\n",
    "    X = vectorizer.fit_transform(df[\"title\"])\n",
    "    y = df[\"label\"].values\n",
    "    return X, y\n",
    "\n",
    "# Preprocess both datasets\n",
    "X_p, y_p = preprocess_text(df_politifact)\n",
    "X_g, y_g = preprocess_text(df_gossipcop)\n"
   ]
  },
  {
   "cell_type": "code",
   "execution_count": 4,
   "id": "2d74d5ac",
   "metadata": {},
   "outputs": [],
   "source": [
    "# Train/test split\n",
    "X_train_p, X_test_p, y_train_p, y_test_p = train_test_split(X_p, y_p, test_size=0.2, random_state=42)\n",
    "X_train_g, X_test_g, y_train_g, y_test_g = train_test_split(X_g, y_g, test_size=0.2, random_state=42)\n",
    "\n",
    "# Train and evaluate LR on PolitiFact\n",
    "model_p = LogisticRegression()\n",
    "model_p.fit(X_train_p, y_train_p)\n",
    "y_pred_p = model_p.predict(X_test_p)\n",
    "\n",
    "# Metrics for PolitiFact\n",
    "accuracy_p = accuracy_score(y_test_p, y_pred_p)\n",
    "precision_p = precision_score(y_test_p, y_pred_p)\n",
    "recall_p = recall_score(y_test_p, y_pred_p)\n",
    "f1_p = f1_score(y_test_p, y_pred_p)\n",
    "\n",
    "# Train and evaluate LR on GossipCop\n",
    "model_g = LogisticRegression()\n",
    "model_g.fit(X_train_g, y_train_g)\n",
    "y_pred_g = model_g.predict(X_test_g)\n",
    "\n",
    "# Metrics for GossipCop\n",
    "accuracy_g = accuracy_score(y_test_g, y_pred_g)\n",
    "precision_g = precision_score(y_test_g, y_pred_g)\n",
    "recall_g = recall_score(y_test_g, y_pred_g)\n",
    "f1_g = f1_score(y_test_g, y_pred_g)\n"
   ]
  },
  {
   "cell_type": "code",
   "execution_count": 5,
   "id": "4e20da14",
   "metadata": {},
   "outputs": [
    {
     "name": "stdout",
     "output_type": "stream",
     "text": [
      "\n",
      "Model Performance:\n",
      "PolitiFact:\n",
      "Accuracy: 0.810, Precision: 0.817, Recall: 0.784, F1 Score: 0.800\n",
      "GossipCop:\n",
      "Accuracy: 0.759, Precision: 0.734, Recall: 0.970, F1 Score: 0.836\n"
     ]
    }
   ],
   "source": [
    "# Print results\n",
    "print(\"\\nModel Performance:\")\n",
    "print(\"PolitiFact:\")\n",
    "print(f\"Accuracy: {accuracy_p:.3f}, Precision: {precision_p:.3f}, Recall: {recall_p:.3f}, F1 Score: {f1_p:.3f}\")\n",
    "print(\"GossipCop:\")\n",
    "print(f\"Accuracy: {accuracy_g:.3f}, Precision: {precision_g:.3f}, Recall: {recall_g:.3f}, F1 Score: {f1_g:.3f}\")\n"
   ]
  }
 ],
 "metadata": {
  "kernelspec": {
   "display_name": "myenv",
   "language": "python",
   "name": "python3"
  },
  "language_info": {
   "codemirror_mode": {
    "name": "ipython",
    "version": 3
   },
   "file_extension": ".py",
   "mimetype": "text/x-python",
   "name": "python",
   "nbconvert_exporter": "python",
   "pygments_lexer": "ipython3",
   "version": "3.13.0"
  }
 },
 "nbformat": 4,
 "nbformat_minor": 5
}
