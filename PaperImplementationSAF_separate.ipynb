{
 "cells": [
  {
   "cell_type": "code",
   "execution_count": 1,
   "id": "3b6eb070",
   "metadata": {},
   "outputs": [],
   "source": [
    "import pandas as pd\n",
    "import numpy as np\n",
    "import re\n",
    "from sklearn.feature_extraction.text import TfidfVectorizer\n",
    "from sklearn.model_selection import train_test_split\n",
    "from sklearn.ensemble import RandomForestClassifier\n",
    "from sklearn.metrics import accuracy_score, precision_score, recall_score, f1_score\n",
    "from sklearn.preprocessing import StandardScaler"
   ]
  },
  {
   "cell_type": "code",
   "execution_count": 3,
   "id": "63e2ae52",
   "metadata": {},
   "outputs": [],
   "source": [
    "def load_data(file_paths, label):\n",
    "    dfs = []\n",
    "    for file_path in file_paths:\n",
    "        df = pd.read_csv(file_path)\n",
    "        df.dropna(inplace=True)  \n",
    "        df['label'] = label  \n",
    "        dfs.append(df)\n",
    "    return pd.concat(dfs, ignore_index=True)\n",
    "\n",
    "# Load datasets separately\n",
    "politifact_real = load_data([\"politifact_real.csv\"], 1)\n",
    "politifact_fake = load_data([\"politifact_fake.csv\"], 0)\n",
    "gossipcop_real = load_data([\"gossipcop_real_reduced.csv\"], 1)\n",
    "gossipcop_fake = load_data([\"gossipcop_fake_reduced.csv\"], 0)\n",
    "\n",
    "politifact = pd.concat([politifact_real, politifact_fake], ignore_index=True)\n",
    "gossipcop = pd.concat([gossipcop_real, gossipcop_fake], ignore_index=True)\n"
   ]
  },
  {
   "cell_type": "code",
   "execution_count": 4,
   "id": "7ed60d07",
   "metadata": {},
   "outputs": [],
   "source": [
    "def extract_text_features(df, vectorizer):\n",
    "    return vectorizer.fit_transform(df['title'])\n",
    "\n",
    "\n",
    "def extract_social_features(df):\n",
    "    tweet_counts = df['tweet_ids'].apply(lambda x: len(str(x).split('\\t')))\n",
    "    tweet_counts = tweet_counts.values.reshape(-1, 1)\n",
    "    return tweet_counts\n",
    "\n",
    "\n",
    "def extract_article_features(df):\n",
    "    url_lengths = df['url'].fillna('').apply(lambda x: len(str(x)))\n",
    "    title_lengths = df['title'].fillna('').apply(lambda x: len(str(x)))\n",
    "    return np.vstack((url_lengths, title_lengths)).T\n",
    "\n",
    "\n",
    "def extract_user_features(df):\n",
    "    has_user_info = df['username'].notnull().astype(int) if 'username' in df.columns else np.zeros(len(df), dtype=int)\n",
    "    return has_user_info.reshape(-1, 1)"
   ]
  },
  {
   "cell_type": "code",
   "execution_count": 5,
   "id": "36b931cc",
   "metadata": {},
   "outputs": [],
   "source": [
    "def preprocess_data(df, vectorizer):\n",
    "    if 'url' not in df.columns:\n",
    "        df['url'] = ''\n",
    "    text_features = extract_text_features(df, vectorizer)\n",
    "    social_features = extract_social_features(df)\n",
    "    article_features = extract_article_features(df)\n",
    "    user_features = extract_user_features(df)\n",
    "    combined_features = np.hstack((text_features.toarray(), social_features, article_features, user_features))\n",
    "    scaler = StandardScaler()\n",
    "    features = scaler.fit_transform(combined_features)\n",
    "    return features, df['label'].values\n",
    "\n",
    "# Define vectorizer\n",
    "vectorizer = TfidfVectorizer(max_features=5000)\n",
    "\n",
    "# PolitiFact\n",
    "features_p, labels_p = preprocess_data(politifact, vectorizer)\n",
    "X_train_p, X_test_p, y_train_p, y_test_p = train_test_split(features_p, labels_p, test_size=0.2, random_state=42)\n",
    "model_p = RandomForestClassifier(n_estimators=100, random_state=42)\n",
    "model_p.fit(X_train_p, y_train_p)\n",
    "y_pred_p = model_p.predict(X_test_p)\n",
    "\n",
    "# GossipCop\n",
    "features_g, labels_g = preprocess_data(gossipcop, vectorizer)\n",
    "X_train_g, X_test_g, y_train_g, y_test_g = train_test_split(features_g, labels_g, test_size=0.2, random_state=42)\n",
    "model_g = RandomForestClassifier(n_estimators=100, random_state=42)\n",
    "model_g.fit(X_train_g, y_train_g)\n",
    "y_pred_g = model_g.predict(X_test_g)\n"
   ]
  },
  {
   "cell_type": "code",
   "execution_count": 6,
   "id": "4fd6b7a4",
   "metadata": {},
   "outputs": [
    {
     "name": "stdout",
     "output_type": "stream",
     "text": [
      "Model Performance:\n",
      "PolitiFact:\n",
      "Accuracy: 0.797, Precision: 0.787, Recall: 0.797, F1 Score: 0.792\n",
      "GossipCop:\n",
      "Accuracy: 0.830, Precision: 0.810, Recall: 0.955, F1 Score: 0.877\n"
     ]
    }
   ],
   "source": [
    "# Evaluation\n",
    "print(\"Model Performance:\")\n",
    "print(\"PolitiFact:\")\n",
    "print(f\"Accuracy: {accuracy_score(y_test_p, y_pred_p):.3f}, Precision: {precision_score(y_test_p, y_pred_p):.3f}, Recall: {recall_score(y_test_p, y_pred_p):.3f}, F1 Score: {f1_score(y_test_p, y_pred_p):.3f}\")\n",
    "\n",
    "print(\"GossipCop:\")\n",
    "print(f\"Accuracy: {accuracy_score(y_test_g, y_pred_g):.3f}, Precision: {precision_score(y_test_g, y_pred_g):.3f}, Recall: {recall_score(y_test_g, y_pred_g):.3f}, F1 Score: {f1_score(y_test_g, y_pred_g):.3f}\")\n"
   ]
  }
 ],
 "metadata": {
  "kernelspec": {
   "display_name": "myenv",
   "language": "python",
   "name": "python3"
  },
  "language_info": {
   "codemirror_mode": {
    "name": "ipython",
    "version": 3
   },
   "file_extension": ".py",
   "mimetype": "text/x-python",
   "name": "python",
   "nbconvert_exporter": "python",
   "pygments_lexer": "ipython3",
   "version": "3.13.0"
  }
 },
 "nbformat": 4,
 "nbformat_minor": 5
}
